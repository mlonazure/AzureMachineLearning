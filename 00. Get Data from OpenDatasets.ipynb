{
 "cells": [
  {
   "cell_type": "code",
   "execution_count": null,
   "metadata": {},
   "outputs": [],
   "source": [
    "import azureml.core\n",
    "from azureml.core import Workspace, Datastore, Dataset\n",
    "\n",
    "mlonazure_ws = Workspace.from_config()\n",
    "\n",
    "mlonazure_ds = mlonazure_ws.get_default_datastore()\n",
    "\n",
    "print('Workspace Name: ' + mlonazure_ws.name, \n",
    "      'Resource Group: ' + mlonazure_ws.resource_group,\n",
    "      'Default Storage Account Name: ' + mlonazure_ds.account_name,\n",
    "      'AzureML Core Version: ' + azureml.core.VERSION,\n",
    "      sep = '\\n')"
   ]
  },
  {
   "cell_type": "code",
   "execution_count": null,
   "metadata": {},
   "outputs": [],
   "source": [
    "Datastore.get_default(mlonazure_ws)"
   ]
  },
  {
   "cell_type": "code",
   "execution_count": null,
   "metadata": {},
   "outputs": [],
   "source": [
    "from azureml.opendatasets import OjSalesSimulated\n",
    "\n",
    "oj_sales_files = OjSalesSimulated.get_file_dataset()\n",
    "\n",
    "#Note: We can also limit the number of files by supplying num_files=x parameter. "
   ]
  },
  {
   "cell_type": "raw",
   "metadata": {},
   "source": [
    "oj_sales_files.take(10).to_path()"
   ]
  },
  {
   "cell_type": "raw",
   "metadata": {},
   "source": [
    "https://docs.microsoft.com/en-us/python/api/azureml-core/azureml.data.abstract_dataset.abstractdataset?view=azure-ml-py\n",
    "\n",
    "https://docs.microsoft.com/en-us/python/api/azureml-core/azureml.data.tabulardataset?view=azure-ml-py#definition\n",
    "\n",
    "https://docs.microsoft.com/en-us/python/api/azureml-core/azureml.data.filedataset?view=azure-ml-py#definition\n",
    "\n",
    "https://docs.microsoft.com/en-us/python/api/azureml-core/azureml.data.azure_storage_datastore.azureblobdatastore?view=azure-ml-py#definition\n"
   ]
  },
  {
   "cell_type": "code",
   "execution_count": null,
   "metadata": {},
   "outputs": [],
   "source": [
    "#mount_context = oj_sales_files.take(20).mount(mount_point=None)\n",
    "\n",
    "mount_context = oj_sales_files.mount(mount_point=None)\n",
    "\n",
    "mount_context.start() #mount file streams\n",
    "\n",
    "print(\"Temp Mount Point: \" + mount_context.mount_point) \n",
    "\n",
    "data_reference = mlonazure_ds.upload(src_dir=mount_context.mount_point, target_path='MyDatasets/New/OJSales_All', overwrite=False, show_progress=False)\n",
    "mount_context.stop() #unmount file streams\n",
    "\n",
    "print('Path on Datastore: ' + data_reference.path_on_datastore)\n",
    "print('DataReference Mode: ' + data_reference.mode)\n"
   ]
  },
  {
   "cell_type": "code",
   "execution_count": null,
   "metadata": {},
   "outputs": [],
   "source": [
    "datasetName_train = 'OJSales_All'"
   ]
  },
  {
   "cell_type": "raw",
   "metadata": {},
   "source": [
    "from azureml.data.datapath import DataPath\n",
    "\n",
    "mlonazure_ds_files_train = [\n",
    "    DataPath(mlonazure_ds, data_reference.path_on_datastore)\n",
    "]\n",
    "\n",
    "ojsales_ds = Dataset.Tabular.from_delimited_files(mlonazure_ds_files_train)\n",
    "\n",
    "#train_data_registered.unregister_all_versions()\n",
    "ojsales_ds = ojsales_ds.register(workspace=mlonazure_ws,\n",
    "                                 name=datasetName_train,\n",
    "                                 description='All OJSales Data',\n",
    "                                 tags= {'type': 'csv', 'date':'June 2020'},\n",
    "                                 create_new_version=True)"
   ]
  },
  {
   "cell_type": "code",
   "execution_count": null,
   "metadata": {},
   "outputs": [],
   "source": [
    "ojsales_ds = Dataset.get_by_name(mlonazure_ws,datasetName_train,version='latest')\n",
    "\n",
    "ojsales_ds.take(10).to_pandas_dataframe()"
   ]
  },
  {
   "cell_type": "code",
   "execution_count": null,
   "metadata": {},
   "outputs": [],
   "source": [
    "alldata_pd = ojsales_ds.to_pandas_dataframe()\n",
    "alldata_pd.shape"
   ]
  },
  {
   "cell_type": "code",
   "execution_count": null,
   "metadata": {},
   "outputs": [],
   "source": [
    "alldata_pd.dtypes"
   ]
  },
  {
   "cell_type": "code",
   "execution_count": null,
   "metadata": {},
   "outputs": [],
   "source": [
    "alldata_pd.describe()"
   ]
  },
  {
   "cell_type": "code",
   "execution_count": null,
   "metadata": {},
   "outputs": [],
   "source": [
    "alldata_pd.Brand.unique()"
   ]
  },
  {
   "cell_type": "code",
   "execution_count": null,
   "metadata": {},
   "outputs": [],
   "source": [
    "alldata_pd.Brand.value_counts()"
   ]
  },
  {
   "cell_type": "code",
   "execution_count": null,
   "metadata": {},
   "outputs": [],
   "source": [
    "(alldata_pd.Brand.value_counts()).count()"
   ]
  },
  {
   "cell_type": "code",
   "execution_count": null,
   "metadata": {},
   "outputs": [],
   "source": [
    "(alldata_pd.Store.value_counts()).count()"
   ]
  },
  {
   "cell_type": "code",
   "execution_count": null,
   "metadata": {},
   "outputs": [],
   "source": [
    "alldata_pd.WeekStarting.unique()"
   ]
  },
  {
   "cell_type": "code",
   "execution_count": null,
   "metadata": {},
   "outputs": [],
   "source": [
    "ojsales_ds_withtimestamp = ojsales_ds.with_timestamp_columns(timestamp='WeekStarting', partition_timestamp=None, validate=True)"
   ]
  },
  {
   "cell_type": "code",
   "execution_count": null,
   "metadata": {},
   "outputs": [],
   "source": [
    "from datetime import datetime \n",
    "\n",
    "data_train = ojsales_ds_withtimestamp.time_before(datetime.strptime(\"1992-05-28\", \"%Y-%m-%d\"), include_boundary = True)\n",
    "data_test = ojsales_ds_withtimestamp.time_after(datetime.strptime(\"1992-05-28\", \"%Y-%m-%d\"), include_boundary = False)\n",
    "\n",
    "data_train_ds = data_train.register(workspace=mlonazure_ws,\n",
    "                                 name='OJSales_Train',\n",
    "                                 description='Data on or before 1992-05-28 OJSales_All Files',\n",
    "                                 tags= {'type': 'csv', 'date':'April 2020'},\n",
    "                                 create_new_version=True)\n",
    "\n",
    "data_test_ds = data_test.register(workspace=mlonazure_ws,\n",
    "                                 name='OJSales_Validate',\n",
    "                                 description='Data after 1992-05-28 OJSales_All Files',\n",
    "                                 tags= {'type': 'csv', 'date':'April 2020'},\n",
    "                                 create_new_version=True)"
   ]
  },
  {
   "cell_type": "code",
   "execution_count": null,
   "metadata": {},
   "outputs": [],
   "source": [
    "#ojsales_all_ds = Dataset.get_by_name(mlonazure_ws,'OJSales_All',version='latest')\n",
    "ojsales_train_ds = Dataset.get_by_name(mlonazure_ws,'OJSales_Train',version='latest')\n",
    "ojsales_validate_ds = Dataset.get_by_name(mlonazure_ws,'OJSales_Validate',version='latest')\n",
    "\n",
    "#ojsales_all_pd = ojsales_all_ds.to_pandas_dataframe()\n",
    "ojsales_train_pd = ojsales_train_ds.to_pandas_dataframe()\n",
    "ojsales_validate_pd = ojsales_validate_ds.to_pandas_dataframe()"
   ]
  },
  {
   "cell_type": "code",
   "execution_count": null,
   "metadata": {},
   "outputs": [],
   "source": [
    "print (\"Full dataset Shape:\", ojsales_all_pd.shape[0:2])\n",
    "print (\"Train dataset Shape:\", ojsales_train_pd.shape[0:2])\n",
    "print (\"Validate dataset Shape:\", ojsales_validate_pd.shape[0:2])"
   ]
  },
  {
   "cell_type": "markdown",
   "metadata": {},
   "source": [
    "#### Create a Smaller version of the dataset"
   ]
  },
  {
   "cell_type": "code",
   "execution_count": null,
   "metadata": {},
   "outputs": [],
   "source": [
    "cntAll = (alldata_pd.Store.value_counts()).count()\n",
    "\n",
    "ojsales_train_subset_pd = ojsales_train_pd.query('Store>=1000 & Store<1200')\n",
    "ojsales_validate_subset_pd = ojsales_validate_pd.query('Store>=1000 & Store<1200')\n",
    "                                 \n",
    "cntTrainSubset = (ojsales_train_subset_pd.Store.value_counts()).count()\n",
    "cntValidateSubset = (ojsales_train_subset_pd.Store.value_counts()).count()\n",
    "\n",
    "print(cntAll, cntTrainSubset, cntValidateSubset)\n"
   ]
  },
  {
   "cell_type": "code",
   "execution_count": null,
   "metadata": {},
   "outputs": [],
   "source": [
    "import os\n",
    "os.getcwd()"
   ]
  },
  {
   "cell_type": "code",
   "execution_count": null,
   "metadata": {},
   "outputs": [],
   "source": [
    "ojsales_train_subset_pd.to_csv('Dataset/OJSales_Train_Subset.csv')\n",
    "ojsales_validate_subset_pd.to_csv('Dataset/OJSales_Validate_Subset.csv')"
   ]
  },
  {
   "cell_type": "code",
   "execution_count": null,
   "metadata": {},
   "outputs": [],
   "source": [
    "from azureml.data.datapath import DataPath\n",
    "\n",
    "data_reference_Subset = mlonazure_ds.upload(\n",
    "    src_dir='Dataset',\n",
    "    target_path='MyDatasets/OJSales_Subset',\n",
    "    overwrite=True,\n",
    "    show_progress=False)\n",
    "\n",
    "mlonazure_ds_train_subset = [\n",
    "    DataPath(mlonazure_ds, 'MyDatasets/OJSales_Subset/OJSales_Train_Subset.csv')\n",
    "]\n",
    "\n",
    "ojsales_train_subset_ds = Dataset.Tabular.from_delimited_files(mlonazure_ds_train_subset)\n",
    "\n",
    "\n",
    "mlonazure_ds_validate_subset = [\n",
    "    DataPath(mlonazure_ds, 'MyDatasets/OJSales_Subset/OJSales_Validate_Subset.csv')\n",
    "]\n",
    "\n",
    "ojsales_validate_subset_ds = Dataset.Tabular.from_delimited_files(mlonazure_ds_validate_subset)"
   ]
  },
  {
   "cell_type": "code",
   "execution_count": null,
   "metadata": {},
   "outputs": [],
   "source": [
    "ojsales_train_subset_ds = ojsales_train_subset_ds.register(workspace=mlonazure_ws,\n",
    "                                 name='OJSales_Train_Subset',\n",
    "                                 description='200 Stores Data on or before 1992-05-28 OJSales_All Files',\n",
    "                                 tags= {'type': 'csv', 'date':'April 2020'},\n",
    "                                 create_new_version=True)\n",
    "\n",
    "ojsales_validate_subset_ds = ojsales_validate_subset_ds.register(workspace=mlonazure_ws,\n",
    "                                 name='OJSales_Validate_Subset',\n",
    "                                 description='200 Stores Data after 1992-05-28 OJSales_All Files',\n",
    "                                 tags= {'type': 'csv', 'date':'April 2020'},\n",
    "                                 create_new_version=True)"
   ]
  },
  {
   "cell_type": "code",
   "execution_count": null,
   "metadata": {},
   "outputs": [],
   "source": [
    "#ojsales_all_ds = Dataset.get_by_name(mlonazure_ws,'OJSales_All',version='latest')\n",
    "ojsales_train_subset_ds = Dataset.get_by_name(mlonazure_ws,'OJSales_Train_Subset',version='latest')\n",
    "ojsales_validate_subset_ds = Dataset.get_by_name(mlonazure_ws,'OJSales_Validate_Subset',version='latest')\n",
    "\n",
    "#ojsales_all_pd = ojsales_all_ds.to_pandas_dataframe()\n",
    "ojsales_train_subset_pd = ojsales_train_subset_ds.to_pandas_dataframe()\n",
    "ojsales_validate_subset_pd = ojsales_validate_subset_ds.to_pandas_dataframe()"
   ]
  },
  {
   "cell_type": "code",
   "execution_count": null,
   "metadata": {},
   "outputs": [],
   "source": [
    "ojsales_train_subset_pd.shape"
   ]
  },
  {
   "cell_type": "code",
   "execution_count": null,
   "metadata": {},
   "outputs": [],
   "source": [
    "ojsales_validate_subset_pd.shape"
   ]
  },
  {
   "cell_type": "code",
   "execution_count": null,
   "metadata": {},
   "outputs": [],
   "source": [
    "ojsales_all_pd.describe()"
   ]
  },
  {
   "cell_type": "code",
   "execution_count": null,
   "metadata": {},
   "outputs": [],
   "source": [
    "ojsales_all_pd.dtypes"
   ]
  },
  {
   "cell_type": "code",
   "execution_count": null,
   "metadata": {},
   "outputs": [],
   "source": [
    "ojsales_all_pd.Store.unique()"
   ]
  }
 ],
 "metadata": {
  "kernelspec": {
   "display_name": "Python 3.6 - AzureML",
   "language": "python",
   "name": "python3-azureml"
  },
  "language_info": {
   "codemirror_mode": {
    "name": "ipython",
    "version": 3
   },
   "file_extension": ".py",
   "mimetype": "text/x-python",
   "name": "python",
   "nbconvert_exporter": "python",
   "pygments_lexer": "ipython3",
   "version": "3.6.9"
  },
  "name": "2. Configuration - Datastore and Dataset",
  "notebookId": 1784458533162531
 },
 "nbformat": 4,
 "nbformat_minor": 4
}
