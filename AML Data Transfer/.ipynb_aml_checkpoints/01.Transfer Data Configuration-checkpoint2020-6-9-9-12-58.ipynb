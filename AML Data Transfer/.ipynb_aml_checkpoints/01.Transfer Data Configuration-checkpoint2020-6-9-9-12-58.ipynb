{
 "cells": [
  {
   "cell_type": "markdown",
   "metadata": {},
   "source": [
    "## Transfer Data Configuration: Cofigure necessary components to perform a Data Transfer in the next notebook\n"
   ]
  },
  {
   "cell_type": "markdown",
   "metadata": {},
   "source": [
    "### Description\n",
    "\n",
    "[Workspace](https://docs.microsoft.com/en-us/python/api/azureml-core/azureml.core.workspace%28class%29?view=azure-ml-py) \n",
    "Connect to your Azure Machine Learning service Workspace. Note that if you are using a Compute Instance the config file is already there for the Workspace you're within, otherwise you will need to create it."
   ]
  },
  {
   "cell_type": "code",
   "execution_count": null,
   "metadata": {},
   "outputs": [],
   "source": [
    "import azureml.core\n",
    "from azureml.core import Workspace, Datastore, Dataset\n",
    "\n",
    "mlonazure_ws = Workspace.from_config()\n",
    "\n",
    "mlonazure_ds = mlonazure_ws.get_default_datastore()\n",
    "\n",
    "print('Workspace Name: ' + mlonazure_ws.name, \n",
    "      'Resource Group: ' + mlonazure_ws.resource_group,\n",
    "      'Default Storage Account Name: ' + mlonazure_ds.account_name,\n",
    "      'AzureML Core Version: ' + azureml.core.VERSION,\n",
    "      sep = '\\n')"
   ]
  },
  {
   "cell_type": "markdown",
   "metadata": {},
   "source": [
    "### Description\n",
    "\n",
    "[Datastore.register_azure_sql_database](https://docs.microsoft.com/en-us/python/api/azureml-core/azureml.core.datastore%28class%29?view=azure-ml-py#register-azure-sql-database-workspace--datastore-name--server-name--database-name--tenant-id-none--client-id-none--client-secret-none--resource-url-none--authority-url-none--endpoint-none--overwrite-false--username-none--password-none----kwargs-) This classe allows you to register a number of Azure services to be used in your Pipelines including,\n",
    "\n",
    "- Azure Blob Container\n",
    "- Azure File Share\n",
    "- Azure Data Lake\n",
    "- Azure Data Lake Gen2\n",
    "- Azure SQL Database\n",
    "- Azure Database for PostgreSQL\n",
    "- Databricks File System\n",
    "- Azure Database for MySQL\n",
    "\n",
    "Once you run this code, check your Azure Machine Learning Studio -> Data Sources to see the Azure SQL Database registered.\n",
    "\n",
    "**Note** Create an application under Azure Active Directory in order to have a client_id, and a client_secret.\n",
    "1. Azure Active Directory -> App Registrations -> + New Registeration\n",
    "2. Click into the App -> Certs and Secrets -> New client Secret\n",
    "3. Connect to the Azure SQL Database and add this application as a login to the database and provide it appropriate permissions. In this case, the application was called 'mlonazure',\n",
    "\n",
    "CREATE USER [mlonazure] FROM  EXTERNAL PROVIDER  WITH DEFAULT_SCHEMA=[dbo]\n",
    "GO\n",
    "sp_addrolemember db_datareader, mlonazure\n",
    "sp_addrolemember db_datawriter, mlonazure\n"
   ]
  },
  {
   "cell_type": "code",
   "execution_count": null,
   "metadata": {},
   "outputs": [],
   "source": [
    "from azureml.core import Datastore\n",
    "\n",
    "datastore_name = 'azuresqldb_datastore'\n",
    "server_name = ''\n",
    "database_name = ''\n",
    "\n",
    "client_id = ''\n",
    "client_secret = ''\n",
    "tenant_id = ''\n",
    "\n",
    "mlonazuresql_ds = Datastore.register_azure_sql_database(\n",
    "        workspace=mlonazure_ws,\n",
    "        datastore_name=datastore_name,\n",
    "        server_name=server_name,\n",
    "        database_name=database_name,\n",
    "        tenant_id=tenant_id,\n",
    "        client_id=client_id,\n",
    "        client_secret=client_secret)"
   ]
  },
  {
   "cell_type": "markdown",
   "metadata": {},
   "source": [
    "### Description:\n",
    "\n",
    "[DataFactoryCompute.attach_configuration](https://docs.microsoft.com/en-us/python/api/azureml-core/azureml.core.compute.datafactory.datafactorycompute?view=azure-ml-py#attach-configuration-resource-group-none--factory-name-none--resource-id-none-) Provides configuration for an existing Azrue Data Factory\n",
    "\n",
    "[ComputeTarget.attach](https://docs.microsoft.com/en-us/python/api/azureml-core/azureml.core.computetarget?view=azure-ml-py#attach-workspace--name--attach-configuration-) Attaches the existing Azure Data Factory as an \"Attached Compute\" under \"Compute\" in Studio (Review your Azure Machine Learning studio after you run this code). This allows for this ADF to be used later in an DataTransferStep"
   ]
  },
  {
   "cell_type": "code",
   "execution_count": null,
   "metadata": {},
   "outputs": [],
   "source": [
    "from azureml.core.compute import ComputeTarget, DataFactoryCompute \n",
    "\n",
    "rg = 'mlonazure-rg'\n",
    "adf='mlonazureadf'\n",
    "adfcompute = 'mlonazure-adf'\n",
    "\n",
    "adfconfig = DataFactoryCompute.attach_configuration(resource_group=rg, factory_name=adf, resource_id=None)\n",
    "adfcompute = ComputeTarget.attach(workspace=mlonazure_ws, name=adfcompute, attach_configuration=adfconfig)\n",
    "adfcompute.wait_for_completion()\n"
   ]
  }
 ],
 "metadata": {
  "kernelspec": {
   "display_name": "Python 3.6 - AzureML",
   "language": "python",
   "name": "python3-azureml"
  },
  "language_info": {
   "codemirror_mode": {
    "name": "ipython",
    "version": 3
   },
   "file_extension": ".py",
   "mimetype": "text/x-python",
   "name": "python",
   "nbconvert_exporter": "python",
   "pygments_lexer": "ipython3",
   "version": "3.6.9"
  }
 },
 "nbformat": 4,
 "nbformat_minor": 4
}
