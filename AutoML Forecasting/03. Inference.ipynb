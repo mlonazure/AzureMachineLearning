{
 "cells": [
  {
   "cell_type": "code",
   "execution_count": 30,
   "metadata": {},
   "outputs": [
    {
     "name": "stdout",
     "output_type": "stream",
     "text": [
      "Workspace Name: mlonazure-ws\n",
      "Resource Group: mlonazure-rg\n",
      "Default Storage Account Name: mlonazurews7669880942\n",
      "AzureML Core Version: 1.15.0\n"
     ]
    }
   ],
   "source": [
    "import azureml.core\n",
    "from azureml.core import Workspace, Datastore, Dataset, Experiment\n",
    "\n",
    "mlonazure_ws = Workspace.from_config()\n",
    "\n",
    "mlonazure_ds = mlonazure_ws.get_default_datastore()\n",
    "\n",
    "print('Workspace Name: ' + mlonazure_ws.name, \n",
    "      'Resource Group: ' + mlonazure_ws.resource_group,\n",
    "      'Default Storage Account Name: ' + mlonazure_ds.account_name,\n",
    "      'AzureML Core Version: ' + azureml.core.VERSION,\n",
    "      sep = '\\n')"
   ]
  },
  {
   "cell_type": "code",
   "execution_count": 31,
   "metadata": {},
   "outputs": [],
   "source": [
    "new_model_name = 'AutoML8c77c369671'\n",
    "api_service_name = 'automl-ojsales-api'"
   ]
  },
  {
   "cell_type": "code",
   "execution_count": null,
   "metadata": {},
   "outputs": [],
   "source": [
    "# import json\n",
    "# import pickle\n",
    "# import numpy as np\n",
    "# import pandas as pd\n",
    "# import azureml.train.automl\n",
    "# import joblib\n",
    "# from azureml.core.model import Model\n",
    "\n",
    "# #input_sample = pd.DataFrame(data=[{'sepal_length': 5.9, 'sepal_width': 3.0, 'petal_length': 5.1, 'petal_width': 1.8}])\n",
    "\n",
    "# #input_sample = pd.DataFrame(data=[{\"Column1\": pd.Series([\"1990-06-14T00:00:00.000Z\"], dtype=\"datetime64[ns]\"), \"WeekStarting\": pd.Series([\"1990-06-14T00:00:00.000Z\"], dtype=\"datetime64[ns]\"), \"Store\": pd.Series([\"1000\"], dtype=\"int64\"), \"Brand\": pd.Series([\"dominicks\"], dtype=\"object\"), \"Advert\": pd.Series([\"1\"], dtype=\"int64\"), \"Price\": pd.Series([\"2.59\"], dtype=\"float64\"), \"Revenue\": pd.Series([\"31087.77\"], dtype=\"float64\")}])\n",
    "\n",
    "# input_sample = pd.DataFrame(data=[{\"Column1\": pd.Series([\"1990-06-14T00:00:00.000Z\"], dtype=\"datetime64[ns]\"), \"WeekStarting\": pd.Series([\"1990-06-14T00:00:00.000Z\"], dtype=\"datetime64[ns]\"), \"Store\": pd.Series([\"1000\"], dtype=\"int64\"), \"Brand\": pd.Series([\"dominicks\"], dtype=\"object\"), \"Advert\": pd.Series([\"1\"], dtype=\"int64\"), \"Price\": pd.Series([\"2.59\"], dtype=\"float64\"), \"Revenue\": pd.Series([\"31087.77\"], dtype=\"float64\")}])\n",
    "\n",
    "# #best_run.download_file('outputs/model.pkl', new_model_name)\n",
    "\n",
    "# model = Model(workspace = mlonazure_ws, name = new_model_name)\n",
    "\n",
    "# model.download(target_dir='.',exist_ok = True)\n",
    "\n",
    "# myModel = joblib.load(filename='model.pkl')\n",
    "\n",
    "# # data = input_sample\n",
    "\n",
    "# result = myModel.predict(input_sample)\n",
    "\n",
    "# json.dumps({\"result\": result.tolist()})\n",
    "    \n",
    "# #display(result)\n"
   ]
  },
  {
   "cell_type": "code",
   "execution_count": 44,
   "metadata": {},
   "outputs": [
    {
     "data": {
      "text/plain": [
       "'{\"forecast\": [NaN], \"index\": [{\"WeekStarting\": 960940800000, \"Store\": 1000, \"Brand\": \"dominicks\"}]}'"
      ]
     },
     "execution_count": 44,
     "metadata": {},
     "output_type": "execute_result"
    }
   ],
   "source": [
    "\n",
    "# import json\n",
    "# input_sample = pd.DataFrame(data=[{\"Column1\": pd.Series([\"1990-06-14T00:00:00.000Z\"], dtype=\"datetime64[ns]\"), \"WeekStarting\": pd.Series([\"1990-06-14T00:00:00.000Z\"], dtype=\"datetime64[ns]\"), \"Store\": pd.Series([\"1000\"], dtype=\"int64\"), \"Brand\": pd.Series([\"dominicks\"], dtype=\"object\"), \"Advert\": pd.Series([\"1\"], dtype=\"int64\"), \"Price\": pd.Series([\"2.59\"], dtype=\"float64\"), \"Revenue\": pd.Series([\"31087.77\"], dtype=\"float64\")}])\n",
    "\n",
    "\n",
    "# test_sample = json.dumps({'data': [\n",
    "#     [\"1990-06-14T00:00:00.000Z\",\"2000-06-14T00:00:00.000Z\",1000, 'dominicks', 1, 2.59,3108.77]\n",
    "# ]})\n",
    "\n",
    "# api_service.run(input_data=test_sample)"
   ]
  },
  {
   "cell_type": "code",
   "execution_count": 45,
   "metadata": {},
   "outputs": [],
   "source": [
    "#Note that you need to run ../00. Get Data from OpenDatasets.ipynb to get and register this dataset.\n",
    "datasetName_train = 'OJSales_Train_Subset'\n",
    "datasetName_validate = 'OJSales_Validate_Subset'\n",
    "\n",
    "data_train_ds = Dataset.get_by_name(mlonazure_ws,datasetName_train,version='latest')\n",
    "data_validate_ds = Dataset.get_by_name(mlonazure_ws,datasetName_validate,version='latest')"
   ]
  },
  {
   "cell_type": "code",
   "execution_count": 64,
   "metadata": {},
   "outputs": [],
   "source": [
    "pdValidate = data_validate_ds.to_pandas_dataframe().head(1)\n",
    "#pdValidate = data_validate_ds.to_pandas_dataframe()"
   ]
  },
  {
   "cell_type": "code",
   "execution_count": 65,
   "metadata": {},
   "outputs": [
    {
     "data": {
      "text/html": [
       "<div>\n",
       "<style scoped>\n",
       "    .dataframe tbody tr th:only-of-type {\n",
       "        vertical-align: middle;\n",
       "    }\n",
       "\n",
       "    .dataframe tbody tr th {\n",
       "        vertical-align: top;\n",
       "    }\n",
       "\n",
       "    .dataframe thead th {\n",
       "        text-align: right;\n",
       "    }\n",
       "</style>\n",
       "<table border=\"1\" class=\"dataframe\">\n",
       "  <thead>\n",
       "    <tr style=\"text-align: right;\">\n",
       "      <th></th>\n",
       "      <th>Column1</th>\n",
       "      <th>WeekStarting</th>\n",
       "      <th>Store</th>\n",
       "      <th>Brand</th>\n",
       "      <th>Quantity</th>\n",
       "      <th>Advert</th>\n",
       "      <th>Price</th>\n",
       "      <th>Revenue</th>\n",
       "    </tr>\n",
       "  </thead>\n",
       "  <tbody>\n",
       "    <tr>\n",
       "      <th>0</th>\n",
       "      <td>1992-06-04</td>\n",
       "      <td>1992-06-04</td>\n",
       "      <td>1000</td>\n",
       "      <td>dominicks</td>\n",
       "      <td>11225</td>\n",
       "      <td>1</td>\n",
       "      <td>2.47</td>\n",
       "      <td>27725.75</td>\n",
       "    </tr>\n",
       "  </tbody>\n",
       "</table>\n",
       "</div>"
      ],
      "text/plain": [
       "     Column1 WeekStarting  Store      Brand  Quantity  Advert  Price  Revenue\n",
       "0 1992-06-04   1992-06-04   1000  dominicks     11225       1   2.47 27725.75"
      ]
     },
     "execution_count": 65,
     "metadata": {},
     "output_type": "execute_result"
    }
   ],
   "source": [
    "pdValidate.head(10)"
   ]
  },
  {
   "cell_type": "code",
   "execution_count": 66,
   "metadata": {},
   "outputs": [],
   "source": [
    "inferencedata_json = pdValidate.to_json(orient='records', date_format='iso')\n",
    "inferencedata_json = '{\"data\": ' + inferencedata_json +'}'"
   ]
  },
  {
   "cell_type": "code",
   "execution_count": 67,
   "metadata": {},
   "outputs": [
    {
     "name": "stdout",
     "output_type": "stream",
     "text": [
      "{\"data\": [{\"Column1\":\"1992-06-04T00:00:00.000Z\",\"WeekStarting\":\"1992-06-04T00:00:00.000Z\",\"Store\":1000,\"Brand\":\"dominicks\",\"Quantity\":11225,\"Advert\":1,\"Price\":2.47,\"Revenue\":27725.75}]}\n"
     ]
    }
   ],
   "source": [
    "print(inferencedata_json)"
   ]
  },
  {
   "cell_type": "code",
   "execution_count": 68,
   "metadata": {},
   "outputs": [],
   "source": [
    "from azureml.core.webservice import AksWebservice \n",
    "\n",
    "api_service = AksWebservice(workspace = mlonazure_ws, name = api_service_name)\n"
   ]
  },
  {
   "cell_type": "code",
   "execution_count": 69,
   "metadata": {},
   "outputs": [],
   "source": [
    "forecast_results= api_service.run(input_data=inferencedata_json)"
   ]
  },
  {
   "cell_type": "code",
   "execution_count": 70,
   "metadata": {},
   "outputs": [
    {
     "data": {
      "text/plain": [
       "'{\"forecast\": [11264.858072916666], \"index\": [{\"WeekStarting\": 707616000000, \"Store\": 1000, \"Brand\": \"dominicks\"}]}'"
      ]
     },
     "execution_count": 70,
     "metadata": {},
     "output_type": "execute_result"
    }
   ],
   "source": [
    "forecast_results"
   ]
  },
  {
   "cell_type": "code",
   "execution_count": null,
   "metadata": {},
   "outputs": [],
   "source": []
  }
 ],
 "metadata": {
  "kernelspec": {
   "display_name": "Python 3.6 - AzureML",
   "language": "python",
   "name": "python3-azureml"
  },
  "language_info": {
   "codemirror_mode": {
    "name": "ipython",
    "version": 3
   },
   "file_extension": ".py",
   "mimetype": "text/x-python",
   "name": "python",
   "nbconvert_exporter": "python",
   "pygments_lexer": "ipython3",
   "version": "3.6.9"
  }
 },
 "nbformat": 4,
 "nbformat_minor": 4
}
