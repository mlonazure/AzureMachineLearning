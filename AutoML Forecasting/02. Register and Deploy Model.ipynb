{
 "cells": [
  {
   "cell_type": "markdown",
   "metadata": {},
   "source": [
    "# Select and Register Model from AutoML Runs"
   ]
  },
  {
   "cell_type": "markdown",
   "metadata": {},
   "source": [
    "## Connect to workspace"
   ]
  },
  {
   "cell_type": "code",
   "execution_count": 38,
   "metadata": {},
   "outputs": [
    {
     "name": "stdout",
     "output_type": "stream",
     "text": [
      "Workspace Name: mlonazure-ws\n",
      "Resource Group: mlonazure-rg\n",
      "Default Storage Account Name: mlonazurews7669880942\n",
      "AzureML Core Version: 1.17.0\n"
     ]
    }
   ],
   "source": [
    "import azureml.core\n",
    "from azureml.core import Workspace, Datastore, Dataset, Experiment\n",
    "\n",
    "mlonazure_ws = Workspace.from_config()\n",
    "\n",
    "mlonazure_ds = mlonazure_ws.get_default_datastore()\n",
    "\n",
    "print('Workspace Name: ' + mlonazure_ws.name, \n",
    "      'Resource Group: ' + mlonazure_ws.resource_group,\n",
    "      'Default Storage Account Name: ' + mlonazure_ds.account_name,\n",
    "      'AzureML Core Version: ' + azureml.core.VERSION,\n",
    "      sep = '\\n')"
   ]
  },
  {
   "cell_type": "markdown",
   "metadata": {},
   "source": [
    "## Update these variables"
   ]
  },
  {
   "cell_type": "code",
   "execution_count": 35,
   "metadata": {},
   "outputs": [],
   "source": [
    "autoMLRunId = 'AutoML_938fe675-8c68-433a-8c20-2b2879f69c54'\n",
    "modelDescription = 'OJ Sales Forecasting Model'\n",
    "experiment_name = 'CETA_DemandForecasting_Training'\n",
    "api_service_name = 'forecastdemand-api'\n",
    "aks_compute_name = 'InferenceCluster'"
   ]
  },
  {
   "cell_type": "markdown",
   "metadata": {},
   "source": [
    "## Retrieve and Register Model from AutoML Experiment"
   ]
  },
  {
   "cell_type": "code",
   "execution_count": 3,
   "metadata": {},
   "outputs": [],
   "source": [
    "from azureml.train.automl.run import AutoMLRun\n",
    "\n",
    "experiment = Experiment(workspace = mlonazure_ws, name = experiment_name)\n",
    "previous_automl_run = AutoMLRun(experiment, autoMLRunId, outputs = None)\n",
    "automl_run = previous_automl_run"
   ]
  },
  {
   "cell_type": "code",
   "execution_count": 4,
   "metadata": {},
   "outputs": [
    {
     "data": {
      "text/html": [
       "<table style=\"width:100%\"><tr><th>Experiment</th><th>Id</th><th>Type</th><th>Status</th><th>Details Page</th><th>Docs Page</th></tr><tr><td>CETA_DemandForecasting_Training</td><td>AutoML_938fe675-8c68-433a-8c20-2b2879f69c54</td><td>automl</td><td>Completed</td><td><a href=\"https://ml.azure.com/experiments/CETA_DemandForecasting_Training/runs/AutoML_938fe675-8c68-433a-8c20-2b2879f69c54?wsid=/subscriptions/286d2a8f-e90b-4e3f-b4d7-08971a2ab3fe/resourcegroups/mlonazure-rg/workspaces/mlonazure-ws\" target=\"_blank\" rel=\"noopener\">Link to Azure Machine Learning studio</a></td><td><a href=\"https://docs.microsoft.com/en-us/python/api/overview/azure/ml/intro?view=azure-ml-py\" target=\"_blank\" rel=\"noopener\">Link to Documentation</a></td></tr></table>"
      ],
      "text/plain": [
       "Run(Experiment: CETA_DemandForecasting_Training,\n",
       "Id: AutoML_938fe675-8c68-433a-8c20-2b2879f69c54,\n",
       "Type: automl,\n",
       "Status: Completed)"
      ]
     },
     "execution_count": 4,
     "metadata": {},
     "output_type": "execute_result"
    }
   ],
   "source": [
    "automl_run"
   ]
  },
  {
   "cell_type": "code",
   "execution_count": 5,
   "metadata": {},
   "outputs": [
    {
     "name": "stdout",
     "output_type": "stream",
     "text": [
      "[('timeseriestransformer', TimeSeriesTransformer(featurization_config=None,\n",
      "                      pipeline_type=<TimeSeriesPipelineType.FULL: 1>)), ('prefittedsoftvotingregressor', PreFittedSoftVotingRegressor(estimators=[('84',\n",
      "                                          Pipeline(memory=None,\n",
      "                                                   steps=[('sparsenormalizer',\n",
      "                                                           <azureml.automl.runtime.shared.model_wrappers.SparseNormalizer object at 0x7fd1a7d3b080>),\n",
      "                                                          ('xgboostregressor',\n",
      "                                                           XGBoostRegressor(base_score=0.5,\n",
      "                                                                            booster='gbtree',\n",
      "                                                                            colsample_bylevel=0.7,\n",
      "                                                                            colsample_bynode=1,\n",
      "                                                                            colsample_bytree=1,\n",
      "                                                                            eta=0.001,\n",
      "                                                                            gamma=0,\n",
      "                                                                            importance_type='gain...\n",
      "                                                                            n_jobs=-1,\n",
      "                                                                            nthread=None,\n",
      "                                                                            objective='reg:squarederror',\n",
      "                                                                            random_state=0,\n",
      "                                                                            reg_alpha=0.7291666666666667,\n",
      "                                                                            reg_lambda=0.625,\n",
      "                                                                            scale_pos_weight=1,\n",
      "                                                                            seed=None,\n",
      "                                                                            silent=None,\n",
      "                                                                            subsample=1,\n",
      "                                                                            tree_method='auto',\n",
      "                                                                            verbose=-10,\n",
      "                                                                            verbosity=0))],\n",
      "                                                   verbose=False))],\n",
      "                             weights=[0.5714285714285714, 0.14285714285714285,\n",
      "                                      0.07142857142857142, 0.07142857142857142,\n",
      "                                      0.07142857142857142,\n",
      "                                      0.07142857142857142]))]\n",
      "AutoML938fe6758118\n"
     ]
    }
   ],
   "source": [
    "best_run, fitted_model = automl_run.get_output()\n",
    "print(fitted_model.steps)\n",
    "model_name = best_run.properties['model_name']\n",
    "print(model_name)"
   ]
  },
  {
   "cell_type": "code",
   "execution_count": 7,
   "metadata": {},
   "outputs": [
    {
     "name": "stdout",
     "output_type": "stream",
     "text": [
      "AutoML938fe6758118\n"
     ]
    }
   ],
   "source": [
    "model = automl_run.register_model(model_name = model_name, description = modelDescription, tags =  {'Type':'AutoML', 'Data':'iris'})\n",
    "\n",
    "print(automl_run.model_id)"
   ]
  },
  {
   "cell_type": "markdown",
   "metadata": {},
   "source": [
    "## Deploy Best Model"
   ]
  },
  {
   "cell_type": "code",
   "execution_count": 31,
   "metadata": {},
   "outputs": [],
   "source": [
    "script_file_name = 'score_fcast.py'\n",
    "best_run.download_file('outputs/scoring_file_v_1_0_0.py', script_file_name)\n",
    "\n",
    "conda_file_name = 'conda_file.yml'\n",
    "best_run.download_file('outputs/conda_env_v_1_0_0.yml', conda_file_name)\n",
    "\n",
    "#automlenv = Environment.from_conda_specification(name = \"automlenv\", file_path = conda_file_name)\n"
   ]
  },
  {
   "cell_type": "code",
   "execution_count": 32,
   "metadata": {},
   "outputs": [
    {
     "data": {
      "text/plain": [
       "dict_keys(['mlonazure--env3', 'samsenv', 'AzureML-Tutorial', 'AzureML-Minimal', 'AzureML-Chainer-5.1.0-GPU', 'AzureML-PyTorch-1.2-CPU', 'AzureML-TensorFlow-1.12-CPU', 'AzureML-TensorFlow-1.13-CPU', 'AzureML-PyTorch-1.1-CPU', 'AzureML-TensorFlow-1.10-CPU', 'AzureML-PyTorch-1.0-GPU', 'AzureML-TensorFlow-1.12-GPU', 'AzureML-TensorFlow-1.13-GPU', 'AzureML-Chainer-5.1.0-CPU', 'AzureML-PyTorch-1.0-CPU', 'AzureML-Scikit-learn-0.20.3', 'AzureML-PyTorch-1.2-GPU', 'AzureML-PyTorch-1.1-GPU', 'AzureML-TensorFlow-1.10-GPU', 'AzureML-PyTorch-1.3-GPU', 'AzureML-TensorFlow-2.0-CPU', 'AzureML-PyTorch-1.3-CPU', 'AzureML-TensorFlow-2.0-GPU', 'AzureML-PySpark-MmlSpark-0.15', 'AzureML-AutoML', 'AzureML-PyTorch-1.4-GPU', 'AzureML-PyTorch-1.4-CPU', 'AzureML-VowpalWabbit-8.8.0', 'AzureML-Hyperdrive-ForecastDNN', 'AzureML-AutoML-GPU', 'AzureML-AutoML-DNN-GPU', 'AzureML-AutoML-DNN', 'AzureML-Designer-R', 'AzureML-Designer-Recommender', 'AzureML-Designer-Transform', 'AzureML-Designer', 'AzureML-Designer-IO', 'AzureML-Designer-NLP', 'AzureML-Dask-CPU', 'AzureML-Dask-GPU', 'AzureML-PyTorch-1.5-CPU', 'AzureML-PyTorch-1.5-GPU', 'AzureML-Sidecar', 'AzureML-Designer-CV-Transform', 'AzureML-Designer-Score', 'AzureML-Designer-PyTorch', 'AzureML-Designer-CV', 'AzureML-TensorFlow-2.1-GPU', 'AzureML-TensorFlow-2.1-CPU', 'AzureML-Designer-PyTorch-Train', 'AzureML-AutoML-DNN-Vision-GPU', 'AzureML-Designer-VowpalWabbit', 'AzureML-TensorFlow-2.2-GPU', 'AzureML-TensorFlow-2.2-CPU', 'AzureML-PyTorch-1.6-CPU', 'AzureML-PyTorch-1.6-GPU', 'AzureML-Triton', 'AzureML-TensorFlow-2.3-CPU', 'AzureML-TensorFlow-2.3-GPU'])"
      ]
     },
     "execution_count": 32,
     "metadata": {},
     "output_type": "execute_result"
    }
   ],
   "source": [
    "from azureml.core import Environment\n",
    "envs = Environment.list(mlonazure_ws)\n",
    "envs.keys()"
   ]
  },
  {
   "cell_type": "code",
   "execution_count": 33,
   "metadata": {},
   "outputs": [],
   "source": [
    "myenv = Environment(name = \"AzureML-AutoML\")"
   ]
  },
  {
   "cell_type": "code",
   "execution_count": 36,
   "metadata": {},
   "outputs": [
    {
     "name": "stdout",
     "output_type": "stream",
     "text": [
      "Tips: You can try get_logs(): https://aka.ms/debugimage#dockerlog or local deployment: https://aka.ms/debugimage#debug-locally to debug if deployment takes longer than 10 minutes.\n",
      "Running................................................\n",
      "Succeeded\n",
      "AKS service creation operation finished, operation \"Succeeded\"\n",
      "Healthy\n"
     ]
    }
   ],
   "source": [
    "from azureml.core.model import InferenceConfig\n",
    "from azureml.core.webservice import AciWebservice\n",
    "from azureml.core.webservice import Webservice, AksWebservice\n",
    "from azureml.core.model import Model\n",
    "from azureml.core.compute import AksCompute, ComputeTarget\n",
    "\n",
    "aks_target = AksCompute(workspace=mlonazure_ws,name=aks_compute_name)\n",
    "aks_config = AksWebservice.deploy_configuration(cpu_cores=1,memory_gb=1,auth_enabled=True)\n",
    "\n",
    "inference_config = InferenceConfig(environment=myenv,\n",
    "                                     entry_script = script_file_name)\n",
    "\n",
    "\n",
    "api_service = Model.deploy(workspace=mlonazure_ws,\n",
    "                           name=api_service_name, \n",
    "                           models=[model],\n",
    "                           inference_config=inference_config, \n",
    "                           deployment_config=aks_config,\n",
    "                           deployment_target=aks_target,\n",
    "                          overwrite=True)\n",
    "\n",
    "api_service.wait_for_deployment(show_output=True)\n",
    "print(api_service.state)"
   ]
  },
  {
   "cell_type": "code",
   "execution_count": 37,
   "metadata": {},
   "outputs": [
    {
     "data": {
      "text/plain": [
       "'/mnt/batch/tasks/shared/LS_root/mounts/clusters/mlonazure-compute-f4s/code/users/mlonazure/AzureMachineLearning/AutoML Forecasting'"
      ]
     },
     "execution_count": 37,
     "metadata": {},
     "output_type": "execute_result"
    }
   ],
   "source": [
    "pwd"
   ]
  },
  {
   "cell_type": "code",
   "execution_count": null,
   "metadata": {},
   "outputs": [],
   "source": []
  }
 ],
 "metadata": {
  "kernelspec": {
   "display_name": "Python 3.6 - AzureML",
   "language": "python",
   "name": "python3-azureml"
  },
  "language_info": {
   "codemirror_mode": {
    "name": "ipython",
    "version": 3
   },
   "file_extension": ".py",
   "mimetype": "text/x-python",
   "name": "python",
   "nbconvert_exporter": "python",
   "pygments_lexer": "ipython3",
   "version": "3.6.9"
  }
 },
 "nbformat": 4,
 "nbformat_minor": 4
}
