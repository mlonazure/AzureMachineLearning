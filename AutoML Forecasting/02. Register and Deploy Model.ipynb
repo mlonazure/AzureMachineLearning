{
 "cells": [
  {
   "cell_type": "markdown",
   "metadata": {},
   "source": [
    "# Select and Register Model from AutoML Runs"
   ]
  },
  {
   "cell_type": "markdown",
   "metadata": {},
   "source": [
    "## Connect to workspace"
   ]
  },
  {
   "cell_type": "code",
   "execution_count": 3,
   "metadata": {},
   "outputs": [
    {
     "name": "stdout",
     "output_type": "stream",
     "text": [
      "Workspace Name: mlonazure-ws\n",
      "Resource Group: mlonazure-rg\n",
      "Default Storage Account Name: mlonazurews7669880942\n",
      "AzureML Core Version: 1.15.0\n"
     ]
    }
   ],
   "source": [
    "import azureml.core\n",
    "from azureml.core import Workspace, Datastore, Dataset, Experiment\n",
    "\n",
    "mlonazure_ws = Workspace.from_config()\n",
    "\n",
    "mlonazure_ds = mlonazure_ws.get_default_datastore()\n",
    "\n",
    "print('Workspace Name: ' + mlonazure_ws.name, \n",
    "      'Resource Group: ' + mlonazure_ws.resource_group,\n",
    "      'Default Storage Account Name: ' + mlonazure_ds.account_name,\n",
    "      'AzureML Core Version: ' + azureml.core.VERSION,\n",
    "      sep = '\\n')"
   ]
  },
  {
   "cell_type": "markdown",
   "metadata": {},
   "source": [
    "## Update these variables"
   ]
  },
  {
   "cell_type": "code",
   "execution_count": 17,
   "metadata": {},
   "outputs": [],
   "source": [
    "autoMLRunId = 'AutoML_8c77c369-69af-44fe-8694-d321c8a2aaba'\n",
    "modelDescription = 'OJ Sales Forecasting Model'\n",
    "experiment_name = 'OJ_Sales_Quantity_Training'\n",
    "api_service_name = 'automl-ojsales-api'\n",
    "aks_compute_name = 'amlakscluster'"
   ]
  },
  {
   "cell_type": "markdown",
   "metadata": {},
   "source": [
    "## Retrieve and Register Model from AutoML Experiment"
   ]
  },
  {
   "cell_type": "code",
   "execution_count": 9,
   "metadata": {},
   "outputs": [],
   "source": [
    "from azureml.train.automl.run import AutoMLRun\n",
    "\n",
    "experiment = Experiment(workspace = mlonazure_ws, name = experiment_name)\n",
    "previous_automl_run = AutoMLRun(experiment, autoMLRunId, outputs = None)\n",
    "automl_run = previous_automl_run"
   ]
  },
  {
   "cell_type": "code",
   "execution_count": 10,
   "metadata": {},
   "outputs": [
    {
     "name": "stdout",
     "output_type": "stream",
     "text": [
      "AutoML8c77c369671\n"
     ]
    }
   ],
   "source": [
    "best_run, fitted_model = automl_run.get_output()\n",
    "# print(fitted_model.steps)\n",
    "model_name = best_run.properties['model_name']\n",
    "print(model_name)"
   ]
  },
  {
   "cell_type": "code",
   "execution_count": 11,
   "metadata": {},
   "outputs": [
    {
     "name": "stdout",
     "output_type": "stream",
     "text": [
      "AutoML8c77c369671\n"
     ]
    }
   ],
   "source": [
    "model = automl_run.register_model(model_name = model_name, description = modelDescription, tags =  {'Type':'AutoML', 'Data':'iris'})\n",
    "\n",
    "print(automl_run.model_id)"
   ]
  },
  {
   "cell_type": "markdown",
   "metadata": {},
   "source": [
    "## Deploy Best Model"
   ]
  },
  {
   "cell_type": "code",
   "execution_count": 12,
   "metadata": {},
   "outputs": [],
   "source": [
    "script_file_name = 'score_fcast.py'\n",
    "best_run.download_file('outputs/scoring_file_v_1_0_0.py', script_file_name)\n",
    "\n",
    "conda_file_name = 'conda_file.yml'\n",
    "best_run.download_file('outputs/conda_env_v_1_0_0.yml', conda_file_name)\n",
    "\n",
    "#automlenv = Environment.from_conda_specification(name = \"automlenv\", file_path = conda_file_name)\n"
   ]
  },
  {
   "cell_type": "code",
   "execution_count": 13,
   "metadata": {},
   "outputs": [
    {
     "data": {
      "text/plain": [
       "dict_keys(['mlonazure--env3', 'samsenv', 'AzureML-Tutorial', 'AzureML-Minimal', 'AzureML-Chainer-5.1.0-GPU', 'AzureML-PyTorch-1.2-CPU', 'AzureML-TensorFlow-1.12-CPU', 'AzureML-TensorFlow-1.13-CPU', 'AzureML-PyTorch-1.1-CPU', 'AzureML-TensorFlow-1.10-CPU', 'AzureML-PyTorch-1.0-GPU', 'AzureML-TensorFlow-1.12-GPU', 'AzureML-TensorFlow-1.13-GPU', 'AzureML-Chainer-5.1.0-CPU', 'AzureML-PyTorch-1.0-CPU', 'AzureML-Scikit-learn-0.20.3', 'AzureML-PyTorch-1.2-GPU', 'AzureML-PyTorch-1.1-GPU', 'AzureML-TensorFlow-1.10-GPU', 'AzureML-PyTorch-1.3-GPU', 'AzureML-TensorFlow-2.0-CPU', 'AzureML-PyTorch-1.3-CPU', 'AzureML-TensorFlow-2.0-GPU', 'AzureML-PySpark-MmlSpark-0.15', 'AzureML-AutoML', 'AzureML-PyTorch-1.4-GPU', 'AzureML-PyTorch-1.4-CPU', 'AzureML-VowpalWabbit-8.8.0', 'AzureML-Hyperdrive-ForecastDNN', 'AzureML-AutoML-GPU', 'AzureML-AutoML-DNN-GPU', 'AzureML-AutoML-DNN', 'AzureML-Designer-R', 'AzureML-Designer-Recommender', 'AzureML-Designer-Transform', 'AzureML-Designer', 'AzureML-Designer-IO', 'AzureML-Designer-NLP', 'AzureML-Dask-CPU', 'AzureML-Dask-GPU', 'AzureML-PyTorch-1.5-CPU', 'AzureML-PyTorch-1.5-GPU', 'AzureML-Sidecar', 'AzureML-Designer-CV-Transform', 'AzureML-Designer-Score', 'AzureML-Designer-PyTorch', 'AzureML-Designer-CV', 'AzureML-TensorFlow-2.1-GPU', 'AzureML-TensorFlow-2.1-CPU', 'AzureML-Designer-PyTorch-Train', 'AzureML-AutoML-DNN-Vision-GPU', 'AzureML-Designer-VowpalWabbit', 'AzureML-TensorFlow-2.2-GPU', 'AzureML-TensorFlow-2.2-CPU', 'AzureML-PyTorch-1.6-CPU', 'AzureML-PyTorch-1.6-GPU', 'AzureML-Triton', 'AzureML-TensorFlow-2.3-CPU', 'AzureML-TensorFlow-2.3-GPU'])"
      ]
     },
     "execution_count": 13,
     "metadata": {},
     "output_type": "execute_result"
    }
   ],
   "source": [
    "from azureml.core import Environment\n",
    "envs = Environment.list(mlonazure_ws)\n",
    "envs.keys()"
   ]
  },
  {
   "cell_type": "code",
   "execution_count": 14,
   "metadata": {},
   "outputs": [],
   "source": [
    "myenv = Environment(name = \"AzureML-AutoML\")"
   ]
  },
  {
   "cell_type": "code",
   "execution_count": 18,
   "metadata": {},
   "outputs": [
    {
     "name": "stdout",
     "output_type": "stream",
     "text": [
      "Tips: You can try get_logs(): https://aka.ms/debugimage#dockerlog or local deployment: https://aka.ms/debugimage#debug-locally to debug if deployment takes longer than 10 minutes.\n",
      "Running......................\n",
      "Succeeded\n",
      "AKS service creation operation finished, operation \"Succeeded\"\n",
      "Healthy\n"
     ]
    }
   ],
   "source": [
    "from azureml.core.model import InferenceConfig\n",
    "from azureml.core.webservice import AciWebservice\n",
    "from azureml.core.webservice import Webservice, AksWebservice\n",
    "from azureml.core.model import Model\n",
    "from azureml.core.compute import AksCompute, ComputeTarget\n",
    "\n",
    "aks_target = AksCompute(workspace=mlonazure_ws,name=aks_compute_name)\n",
    "aks_config = AksWebservice.deploy_configuration(cpu_cores=1,memory_gb=1,auth_enabled=True)\n",
    "\n",
    "inference_config = InferenceConfig(environment=myenv,\n",
    "                                     entry_script = script_file_name)\n",
    "\n",
    "\n",
    "api_service = Model.deploy(workspace=mlonazure_ws,\n",
    "                           name=api_service_name, \n",
    "                           models=[model],\n",
    "                           inference_config=inference_config, \n",
    "                           deployment_config=aks_config,\n",
    "                           deployment_target=aks_target,\n",
    "                          overwrite=True)\n",
    "\n",
    "api_service.wait_for_deployment(show_output=True)\n",
    "print(api_service.state)"
   ]
  },
  {
   "cell_type": "code",
   "execution_count": null,
   "metadata": {},
   "outputs": [],
   "source": []
  }
 ],
 "metadata": {
  "kernelspec": {
   "display_name": "Python 3.6 - AzureML",
   "language": "python",
   "name": "python3-azureml"
  },
  "language_info": {
   "codemirror_mode": {
    "name": "ipython",
    "version": 3
   },
   "file_extension": ".py",
   "mimetype": "text/x-python",
   "name": "python",
   "nbconvert_exporter": "python",
   "pygments_lexer": "ipython3",
   "version": "3.6.9"
  }
 },
 "nbformat": 4,
 "nbformat_minor": 4
}
